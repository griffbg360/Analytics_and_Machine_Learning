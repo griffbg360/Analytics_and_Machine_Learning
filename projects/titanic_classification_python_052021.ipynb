{
 "cells": [
  {
   "cell_type": "markdown",
   "metadata": {},
   "source": [
    "# The Titanic Classification Challenge"
   ]
  },
  {
   "cell_type": "markdown",
   "metadata": {},
   "source": [
    "RMS Titanic, the British passenger liner, sank on her maiden voyage after colliding with an iceberg.  On April 10, 1912, Titanic left the dock in Southampton, England for Cherbourg, France, and then proceeded to Queenstown (known as Cobh), Ireland. She began the voyage across the Atlantic on April 11, headed for New York.  On April 15, at 2:00 am, RMS Titanic sank. Of the 2224 passengers, 722 survived, while 1502 perished in the icy waters."
   ]
  },
  {
   "cell_type": "markdown",
   "metadata": {},
   "source": [
    "### The Titanic Data\n",
    "The Titanic dataset from Kaggle.com provided a challenge in predicting which passengers would survive based on passenger demographics and ticketing information.  Fields included age, gender, ticket price (Fare), ticket class (Pclass), passenger ID, cabin number (Cabin), city of embarcation (Embarked), number of siblings and spouces (SibSp) and number of parents and children (Parch) onboard. \n",
    "\n",
    "In this project, a series of four classification models was produced to predict passenger survival (1) or not (0). Model performance was compared using the results of holdout validation (25%). "
   ]
  },
  {
   "cell_type": "markdown",
   "metadata": {},
   "source": [
    "### The Modeling Process\n",
    "The modeling process included: \n",
    " - Data Cleaning \n",
    " - Feature Selection \n",
    " - Feature Encoding \n",
    " - Training and Fitting Models \n",
    " - Reviewing Model Results  "
   ]
  },
  {
   "cell_type": "markdown",
   "metadata": {},
   "source": [
    "### Function Definitions\n",
    "Code functions were defined to aid reuse. Functions are typically saved into a .py file and imported.  However, they were placed in this file for ease of viewing."
   ]
  },
  {
   "cell_type": "code",
   "execution_count": 1,
   "metadata": {},
   "outputs": [],
   "source": [
    "#import Libraries\n",
    "import sklearn as sk\n",
    "import pandas as pd\n",
    "from scipy import stats\n",
    "import numpy as np\n",
    "import matplotlib.pyplot as plt\n",
    "import seaborn as sns\n",
    "from sklearn.preprocessing import LabelEncoder"
   ]
  },
  {
   "cell_type": "code",
   "execution_count": 2,
   "metadata": {},
   "outputs": [],
   "source": [
    "#Show percentage & count of cells with 'Not Applicable' (NA) for each column\n",
    "def view_na_percentage(datafrm):\n",
    "    print('Missing Cells:')\n",
    "    percentage = pd.Series(round((datafrm.isnull().sum()\n",
    "        .sort_values(ascending=False))/len(datafrm)*100,1), name='Percentage') \n",
    "    count = pd.Series(datafrm.isna().sum(), name='Count')\n",
    "    na_df = pd.concat([count, percentage], axis=1)\n",
    "    print(na_df)\n",
    "    return"
   ]
  },
  {
   "cell_type": "code",
   "execution_count": 3,
   "metadata": {},
   "outputs": [],
   "source": [
    "#Remove duplicate rows\n",
    "def view_and_remove_duplicates(datafrm):\n",
    "    duplicate_rows_df = datafrm[datafrm.duplicated()]\n",
    "    if duplicate_rows_df.size == 0:\n",
    "        print(\"No duplicate rows found in dataset.\")\n",
    "    else:\n",
    "        print(\"Duplicate rows removed (keep first occurrence): \")\n",
    "        print(duplicate_rows_df)\n",
    "        datafrm = datafrm.drop_duplicates(keep='first')\n",
    "    return datafrm"
   ]
  },
  {
   "cell_type": "code",
   "execution_count": 4,
   "metadata": {},
   "outputs": [],
   "source": [
    "#Create a median lookup table for a target column based on column groupings\n",
    "def explore_with_group_table(datafrm, full_list):\n",
    "    #grouping variables are at the front of list, target is at end of list  \n",
    "    lookup_table = datafrm.groupby(full_list[:-1])[full_list[-1]].median().reset_index()[full_list]\n",
    "    #if any NAs remain after grouping, use median of the entire target column\n",
    "    a_median = datafrm[full_list[-1]].agg(['median'])\n",
    "    lookup_table[full_list[-1]] = lookup_table.apply(lambda row: a_median \n",
    "                            if pd.isnull(row[full_list[-1]]) else row[full_list[-1]], axis=1)    \n",
    "    print(lookup_table.to_string(index=False))\n",
    "    return lookup_table"
   ]
  },
  {
   "cell_type": "code",
   "execution_count": 5,
   "metadata": {},
   "outputs": [],
   "source": [
    "#Drop columns provided in a list\n",
    "def drop_columns_for_dataset(datafrm, list_of_cols_to_drop):\n",
    "    if set(list_of_cols_to_drop).issubset(datafrm.columns):\n",
    "        datafrm.drop(list_of_cols_to_drop, axis=1, inplace=True)\n",
    "    print(f'Data columns dropped: {\", \".join(list_of_cols_to_drop)} ')\n",
    "    return datafrm"
   ]
  },
  {
   "cell_type": "code",
   "execution_count": 6,
   "metadata": {},
   "outputs": [],
   "source": [
    "#Drop rows with NAs if remaining dataset is larger than 500 rows\n",
    "def drop_remaining_na_rows(datafrm):\n",
    "    print(f'Before drop: row, col count: {datafrm.shape}')\n",
    "    print(f\"NA count: {round(datafrm.isnull().sum())}\")\n",
    "    len_after_drop =len(datafrm.dropna())\n",
    "    if len_after_drop>500:\n",
    "        datafrm = datafrm.dropna()\n",
    "        print(f'After drop: row, col count: {datafrm.shape}')\n",
    "    else:\n",
    "        print('Rows with NAs not removed.')\n",
    "    return datafrm"
   ]
  },
  {
   "cell_type": "code",
   "execution_count": 7,
   "metadata": {},
   "outputs": [],
   "source": [
    "#Show correlations between response variable and numeric predictor variables\n",
    "def analyze_num_variables(datafrm):\n",
    "    print(f'Numeric Variables Description:\\n{datafrm.describe().transpose()}\\n')\n",
    "    df_corr = datafrm.corr()\n",
    "    print(f'Numeric Variables Correlation Matrix:\\n{df_corr}')\n",
    "    fig1, ax1 = plt.subplots(figsize=(12,10))\n",
    "    print(f'\\nCorrelation Heat Map:\\n')\n",
    "    sns.heatmap(df_corr, cmap=\"Blues\", annot=True)   \n",
    "    return"
   ]
  },
  {
   "cell_type": "code",
   "execution_count": 8,
   "metadata": {},
   "outputs": [],
   "source": [
    "#Show crosstab for response and categorical variables, response var at the end\n",
    "def analyze_cat_variables(datafrm, col_list):\n",
    "    response_var = col_list[-1]\n",
    "    for i, value in enumerate (col_list[:-1]):\n",
    "        crosstab = pd.crosstab(datafrm[value], datafrm[response_var])\n",
    "        print(f\"\\n{response_var} vs {col_list[i]}:\\n{crosstab}\\n\")\n",
    "        chi2, p, dof, ex  = stats.chi2_contingency(crosstab)\n",
    "        print(f'Chi2 Test: {chi2}  p-value:{p}')                                     \n",
    "    return"
   ]
  },
  {
   "cell_type": "code",
   "execution_count": 9,
   "metadata": {},
   "outputs": [],
   "source": [
    "#Create binary encoding for categorical variables (drop_first sets ref variable)\n",
    "def create_bin_encoded_vars(datafrm, category_col_list, drop=True):\n",
    "    try:\n",
    "        datafrm = pd.get_dummies(datafrm, columns=category_col_list, drop_first=drop)   \n",
    "        print(f'Dataframe after encoding (drop-first: {drop}):\\n{datafrm.head(5)}') \n",
    "    except:\n",
    "        print('Encoding failed. Check columns.')\n",
    "    return datafrm"
   ]
  },
  {
   "cell_type": "code",
   "execution_count": 10,
   "metadata": {},
   "outputs": [],
   "source": [
    "#Save csv file\n",
    "def save_file(datafrm, path, filenm):\n",
    "    datafrm.to_csv(path + filenm, index=False)\n",
    "    return"
   ]
  },
  {
   "cell_type": "code",
   "execution_count": 11,
   "metadata": {},
   "outputs": [],
   "source": [
    "#Shuffle and call save file\n",
    "def shuffle_and_save_file(datafrm, path, filenm):\n",
    "    datafrm = datafrm.sample(frac=1).reset_index(drop=True)\n",
    "    save_file(datafrm, path, filenm)\n",
    "    return "
   ]
  },
  {
   "cell_type": "code",
   "execution_count": 12,
   "metadata": {},
   "outputs": [],
   "source": [
    "#Show dataframe attributes\n",
    "def check_dataframe(datafrm): \n",
    "    print(f'Dataset shape: {datafrm.shape}\\n')\n",
    "    view_na_percentage(datafrm)\n",
    "    print(f'\\nDataset Columns:\\n{datafrm.head(3)}\\n')\n",
    "    return\n",
    "\n",
    "#End of reusable functions"
   ]
  },
  {
   "cell_type": "markdown",
   "metadata": {},
   "source": [
    "## Data Cleaning\n",
    "To prepare for modeling, the dataset was examined for duplicate rows and missing cell values. Additionally, variables were explored for the potential to contribute to the predictive model solution.  "
   ]
  },
  {
   "cell_type": "code",
   "execution_count": 13,
   "metadata": {},
   "outputs": [
    {
     "data": {
      "text/html": [
       "<div>\n",
       "<style scoped>\n",
       "    .dataframe tbody tr th:only-of-type {\n",
       "        vertical-align: middle;\n",
       "    }\n",
       "\n",
       "    .dataframe tbody tr th {\n",
       "        vertical-align: top;\n",
       "    }\n",
       "\n",
       "    .dataframe thead th {\n",
       "        text-align: right;\n",
       "    }\n",
       "</style>\n",
       "<table border=\"1\" class=\"dataframe\">\n",
       "  <thead>\n",
       "    <tr style=\"text-align: right;\">\n",
       "      <th></th>\n",
       "      <th>PassengerId</th>\n",
       "      <th>Survived</th>\n",
       "      <th>Pclass</th>\n",
       "      <th>Name</th>\n",
       "      <th>Sex</th>\n",
       "      <th>Age</th>\n",
       "      <th>SibSp</th>\n",
       "      <th>Parch</th>\n",
       "      <th>Ticket</th>\n",
       "      <th>Fare</th>\n",
       "      <th>Cabin</th>\n",
       "      <th>Embarked</th>\n",
       "    </tr>\n",
       "  </thead>\n",
       "  <tbody>\n",
       "    <tr>\n",
       "      <th>0</th>\n",
       "      <td>1</td>\n",
       "      <td>0</td>\n",
       "      <td>3</td>\n",
       "      <td>Braund, Mr. Owen Harris</td>\n",
       "      <td>male</td>\n",
       "      <td>22.0</td>\n",
       "      <td>1</td>\n",
       "      <td>0</td>\n",
       "      <td>A/5 21171</td>\n",
       "      <td>7.2500</td>\n",
       "      <td>NaN</td>\n",
       "      <td>S</td>\n",
       "    </tr>\n",
       "    <tr>\n",
       "      <th>1</th>\n",
       "      <td>2</td>\n",
       "      <td>1</td>\n",
       "      <td>1</td>\n",
       "      <td>Cumings, Mrs. John Bradley (Florence Briggs Th...</td>\n",
       "      <td>female</td>\n",
       "      <td>38.0</td>\n",
       "      <td>1</td>\n",
       "      <td>0</td>\n",
       "      <td>PC 17599</td>\n",
       "      <td>71.2833</td>\n",
       "      <td>C85</td>\n",
       "      <td>C</td>\n",
       "    </tr>\n",
       "    <tr>\n",
       "      <th>2</th>\n",
       "      <td>3</td>\n",
       "      <td>1</td>\n",
       "      <td>3</td>\n",
       "      <td>Heikkinen, Miss. Laina</td>\n",
       "      <td>female</td>\n",
       "      <td>26.0</td>\n",
       "      <td>0</td>\n",
       "      <td>0</td>\n",
       "      <td>STON/O2. 3101282</td>\n",
       "      <td>7.9250</td>\n",
       "      <td>NaN</td>\n",
       "      <td>S</td>\n",
       "    </tr>\n",
       "    <tr>\n",
       "      <th>3</th>\n",
       "      <td>4</td>\n",
       "      <td>1</td>\n",
       "      <td>1</td>\n",
       "      <td>Futrelle, Mrs. Jacques Heath (Lily May Peel)</td>\n",
       "      <td>female</td>\n",
       "      <td>35.0</td>\n",
       "      <td>1</td>\n",
       "      <td>0</td>\n",
       "      <td>113803</td>\n",
       "      <td>53.1000</td>\n",
       "      <td>C123</td>\n",
       "      <td>S</td>\n",
       "    </tr>\n",
       "    <tr>\n",
       "      <th>4</th>\n",
       "      <td>5</td>\n",
       "      <td>0</td>\n",
       "      <td>3</td>\n",
       "      <td>Allen, Mr. William Henry</td>\n",
       "      <td>male</td>\n",
       "      <td>35.0</td>\n",
       "      <td>0</td>\n",
       "      <td>0</td>\n",
       "      <td>373450</td>\n",
       "      <td>8.0500</td>\n",
       "      <td>NaN</td>\n",
       "      <td>S</td>\n",
       "    </tr>\n",
       "  </tbody>\n",
       "</table>\n",
       "</div>"
      ],
      "text/plain": [
       "   PassengerId  Survived  Pclass  \\\n",
       "0            1         0       3   \n",
       "1            2         1       1   \n",
       "2            3         1       3   \n",
       "3            4         1       1   \n",
       "4            5         0       3   \n",
       "\n",
       "                                                Name     Sex   Age  SibSp  \\\n",
       "0                            Braund, Mr. Owen Harris    male  22.0      1   \n",
       "1  Cumings, Mrs. John Bradley (Florence Briggs Th...  female  38.0      1   \n",
       "2                             Heikkinen, Miss. Laina  female  26.0      0   \n",
       "3       Futrelle, Mrs. Jacques Heath (Lily May Peel)  female  35.0      1   \n",
       "4                           Allen, Mr. William Henry    male  35.0      0   \n",
       "\n",
       "   Parch            Ticket     Fare Cabin Embarked  \n",
       "0      0         A/5 21171   7.2500   NaN        S  \n",
       "1      0          PC 17599  71.2833   C85        C  \n",
       "2      0  STON/O2. 3101282   7.9250   NaN        S  \n",
       "3      0            113803  53.1000  C123        S  \n",
       "4      0            373450   8.0500   NaN        S  "
      ]
     },
     "execution_count": 13,
     "metadata": {},
     "output_type": "execute_result"
    }
   ],
   "source": [
    "#load titanic dataset\n",
    "df1 = pd.read_csv('datasets/train_titanic.csv')\n",
    "df1.head(5)"
   ]
  },
  {
   "cell_type": "markdown",
   "metadata": {},
   "source": [
    "There were 11 possible predictor variables (PassengerId, Pclass, Name, Sex, Age, SibSp and Parch Ticket, Fare, Cabin, and Embarked) and one response variable (Survived). "
   ]
  },
  {
   "cell_type": "markdown",
   "metadata": {},
   "source": [
    "### Handle Duplicates"
   ]
  },
  {
   "cell_type": "markdown",
   "metadata": {},
   "source": [
    "The dataset was checked for duplicate rows.  There were none. "
   ]
  },
  {
   "cell_type": "code",
   "execution_count": 14,
   "metadata": {},
   "outputs": [
    {
     "name": "stdout",
     "output_type": "stream",
     "text": [
      "No duplicate rows found in dataset.\n"
     ]
    }
   ],
   "source": [
    "#remove duplicates\n",
    "df1 = view_and_remove_duplicates(df1)"
   ]
  },
  {
   "cell_type": "markdown",
   "metadata": {},
   "source": [
    "### Handle Missing Values"
   ]
  },
  {
   "cell_type": "markdown",
   "metadata": {},
   "source": [
    "The dataset was checked for missing cells in each column."
   ]
  },
  {
   "cell_type": "code",
   "execution_count": 15,
   "metadata": {},
   "outputs": [
    {
     "name": "stdout",
     "output_type": "stream",
     "text": [
      "Missing Cells:\n",
      "             Count  Percentage\n",
      "PassengerId      0         0.0\n",
      "Survived         0         0.0\n",
      "Pclass           0         0.0\n",
      "Name             0         0.0\n",
      "Sex              0         0.0\n",
      "Age            177        19.9\n",
      "SibSp            0         0.0\n",
      "Parch            0         0.0\n",
      "Ticket           0         0.0\n",
      "Fare             0         0.0\n",
      "Cabin          687        77.1\n",
      "Embarked         2         0.2\n"
     ]
    }
   ],
   "source": [
    "#view missing data percentages\n",
    "view_na_percentage(df1)"
   ]
  },
  {
   "cell_type": "markdown",
   "metadata": {},
   "source": [
    "Due to the high number of NAs in the Cabin column, the column was a candidate to be dropped.  The Age column also contained more than the acceptable percentage (approximately 5%) of missing values.  It was reasonable that age may be beneficial to the model solution, since age is reasonable related to survival ability. So, age was examined further. For Embarked, there were two missing cells. These two cells were filled using the highest value from a frequency table in this initial model."
   ]
  },
  {
   "cell_type": "code",
   "execution_count": 16,
   "metadata": {},
   "outputs": [
    {
     "data": {
      "image/png": "[encoded data removed]",
      "text/plain": [
       "<Figure size 432x288 with 1 Axes>"
      ]
     },
     "metadata": {
      "needs_background": "light"
     },
     "output_type": "display_data"
    }
   ],
   "source": [
    "sns.set_palette(\"Paired\")\n",
    "df1['Embarked'].value_counts().plot(kind=\"bar\", alpha=1.0, title='Embarked');"
   ]
  },
  {
   "cell_type": "markdown",
   "metadata": {},
   "source": [
    "Since most passengers embarked at city S, Southhampton, this value was be placed in the two missing cells."
   ]
  },
  {
   "cell_type": "code",
   "execution_count": 17,
   "metadata": {},
   "outputs": [],
   "source": [
    "#fill rows with the highest frequency level when Embarked is null\n",
    "df1['Embarked'] = df1.apply(lambda row:str('S') \n",
    "                            if pd.isnull(row['Embarked']) else row['Embarked'], axis=1)"
   ]
  },
  {
   "cell_type": "code",
   "execution_count": 18,
   "metadata": {},
   "outputs": [
    {
     "name": "stdout",
     "output_type": "stream",
     "text": [
      "Missing Cells:\n",
      "             Count  Percentage\n",
      "PassengerId      0         0.0\n",
      "Survived         0         0.0\n",
      "Pclass           0         0.0\n",
      "Name             0         0.0\n",
      "Sex              0         0.0\n",
      "Age            177        19.9\n",
      "SibSp            0         0.0\n",
      "Parch            0         0.0\n",
      "Ticket           0         0.0\n",
      "Fare             0         0.0\n",
      "Cabin          687        77.1\n",
      "Embarked         0         0.0\n"
     ]
    }
   ],
   "source": [
    "#view missing data percentages\n",
    "view_na_percentage(df1)"
   ]
  },
  {
   "cell_type": "markdown",
   "metadata": {},
   "source": [
    "To fill the missing values in the Age column, a lookup table was built to find similar records, based on the groups of categorical variables (PClass, Sex). This is similar to KNN imputation.  A median age value for each group was used.   "
   ]
  },
  {
   "cell_type": "code",
   "execution_count": 19,
   "metadata": {},
   "outputs": [
    {
     "name": "stdout",
     "output_type": "stream",
     "text": [
      " Pclass     Sex   Age\n",
      "      1  female  35.0\n",
      "      1    male  40.0\n",
      "      2  female  28.0\n",
      "      2    male  30.0\n",
      "      3  female  21.5\n",
      "      3    male  25.0\n"
     ]
    }
   ],
   "source": [
    "#Build lookup table for median values for target var: Age, using category groups  \n",
    "full_list = ['Pclass', 'Sex',  'Age']\n",
    "lookup_df = explore_with_group_table(df1, full_list)"
   ]
  },
  {
   "cell_type": "markdown",
   "metadata": {},
   "source": [
    "The missing age values were filled with the median values from similar groups."
   ]
  },
  {
   "cell_type": "code",
   "execution_count": 20,
   "metadata": {
    "scrolled": true
   },
   "outputs": [],
   "source": [
    "#Fill age using the lookup table above for median 'Age' for this data\n",
    "def fill_age(row):\n",
    "    age_value = lookup_df[(lookup_df['Pclass']==row.Pclass)&\n",
    "                          (lookup_df['Sex']==row.Sex)]['Age'].values[0]\n",
    "    return age_value"
   ]
  },
  {
   "cell_type": "code",
   "execution_count": 21,
   "metadata": {},
   "outputs": [],
   "source": [
    "#call fill_age for missing cells\n",
    "df1['Age']= df1.apply(lambda row: fill_age(row) if pd.isnull(row['Age']) \n",
    "                      else row['Age'], axis=1)"
   ]
  },
  {
   "cell_type": "markdown",
   "metadata": {},
   "source": [
    "The dataset was checked for missing values after filling values."
   ]
  },
  {
   "cell_type": "code",
   "execution_count": 22,
   "metadata": {},
   "outputs": [
    {
     "name": "stdout",
     "output_type": "stream",
     "text": [
      "Missing Cells:\n",
      "             Count  Percentage\n",
      "PassengerId      0         0.0\n",
      "Survived         0         0.0\n",
      "Pclass           0         0.0\n",
      "Name             0         0.0\n",
      "Sex              0         0.0\n",
      "Age              0         0.0\n",
      "SibSp            0         0.0\n",
      "Parch            0         0.0\n",
      "Ticket           0         0.0\n",
      "Fare             0         0.0\n",
      "Cabin          687        77.1\n",
      "Embarked         0         0.0\n"
     ]
    }
   ],
   "source": [
    "#view missing data percentages\n",
    "view_na_percentage(df1)"
   ]
  },
  {
   "cell_type": "markdown",
   "metadata": {},
   "source": [
    "### Drop Arbitrary Data Columns"
   ]
  },
  {
   "cell_type": "markdown",
   "metadata": {},
   "source": [
    "Seemingly arbitrary fields (Name, Ticket, and PassengerId) were dropped in this initial model.  While the Name and Cabin did contain some information that may be helpful, it was not used in this initial model. "
   ]
  },
  {
   "cell_type": "code",
   "execution_count": 23,
   "metadata": {},
   "outputs": [
    {
     "name": "stdout",
     "output_type": "stream",
     "text": [
      "Data columns dropped: Cabin, Ticket, Name, PassengerId \n"
     ]
    }
   ],
   "source": [
    "#drop rows that are arbitrary or contain NAs and cannot be handled at this time\n",
    "drop_list = ['Cabin', 'Ticket', 'Name', 'PassengerId']\n",
    "df1 = drop_columns_for_dataset(df1, drop_list)"
   ]
  },
  {
   "cell_type": "markdown",
   "metadata": {},
   "source": [
    "### Unbalanced Response Variable Class Frequency\n",
    "It was noted that the training dataset had more observations for Survived = 0, than for Survived = 1. For this reason, a stratified sampling method was considered for training/test set splits. Stratification aided in ensuring the appropriate number of observations for Survived = 1. "
   ]
  },
  {
   "cell_type": "code",
   "execution_count": 24,
   "metadata": {},
   "outputs": [
    {
     "name": "stdout",
     "output_type": "stream",
     "text": [
      "Survived Level Counts: [549 342]\n",
      "Survived Percentage: [61.6 38.4]\n"
     ]
    },
    {
     "data": {
      "image/png": "[encoded data removed]",
      "text/plain": [
       "<Figure size 432x288 with 1 Axes>"
      ]
     },
     "metadata": {
      "needs_background": "light"
     },
     "output_type": "display_data"
    }
   ],
   "source": [
    "#show Survived level counts\n",
    "sns.set_palette(\"Paired\")\n",
    "print(f'Survived Level Counts: {df1.Survived.value_counts().values}')\n",
    "print(f'Survived Percentage: {np.round(((df1.Survived.value_counts().values)/(len(df1.index))*100),1)}')\n",
    "(df1.Survived.value_counts()/len(df1.index)*100).plot(kind='bar', title=\"Survived Count Percentage\");"
   ]
  },
  {
   "cell_type": "markdown",
   "metadata": {},
   "source": [
    "## Feature Selection"
   ]
  },
  {
   "cell_type": "markdown",
   "metadata": {},
   "source": [
    "### Feature Selection: Important Categorical Variables"
   ]
  },
  {
   "cell_type": "markdown",
   "metadata": {},
   "source": [
    "Categorical variables were explored next. The ticket class (PClass) column, which held ordinal data, was handled as a categorical variable. Pclass, Embarked, and gender were examined for importance in predicting survival. Crosstabs were produced, chi square tests for category independence were performed, and visualizations were examined."
   ]
  },
  {
   "cell_type": "code",
   "execution_count": 25,
   "metadata": {},
   "outputs": [],
   "source": [
    "#Pclass is handled as categorical variable so change type to string\n",
    "df1.loc[:,\"Pclass\"] = df1[\"Pclass\"].astype(str)"
   ]
  },
  {
   "cell_type": "code",
   "execution_count": 26,
   "metadata": {},
   "outputs": [
    {
     "name": "stdout",
     "output_type": "stream",
     "text": [
      "\n",
      "Survived vs Sex:\n",
      "Survived    0    1\n",
      "Sex               \n",
      "female     81  233\n",
      "male      468  109\n",
      "\n",
      "Chi2 Test: 260.71702016732104  p-value:1.1973570627755645e-58\n",
      "\n",
      "Survived vs Pclass:\n",
      "Survived    0    1\n",
      "Pclass            \n",
      "1          80  136\n",
      "2          97   87\n",
      "3         372  119\n",
      "\n",
      "Chi2 Test: 102.88898875696056  p-value:4.549251711298793e-23\n",
      "\n",
      "Survived vs Embarked:\n",
      "Survived    0    1\n",
      "Embarked          \n",
      "C          75   93\n",
      "Q          47   30\n",
      "S         427  219\n",
      "\n",
      "Chi2 Test: 25.964452881874784  p-value:2.3008626481449577e-06\n"
     ]
    }
   ],
   "source": [
    "#show crosstables for response variable 'Survived' (response var at end of list)\n",
    "cat_var_col_list = ['Sex', 'Pclass', 'Embarked', 'Survived']\n",
    "analyze_cat_variables(df1, cat_var_col_list)"
   ]
  },
  {
   "cell_type": "code",
   "execution_count": 27,
   "metadata": {},
   "outputs": [
    {
     "data": {
      "image/png": "[encoded data removed]",
      "text/plain": [
       "<Figure size 1080x360 with 3 Axes>"
      ]
     },
     "metadata": {
      "needs_background": "light"
     },
     "output_type": "display_data"
    }
   ],
   "source": [
    "#draw bar charts \n",
    "response_var = 'Survived'\n",
    "figure, axes = plt.subplots(1,3, figsize=(15,5))\n",
    "figure.suptitle(response_var)\n",
    "sns.set_palette(\"Paired\")\n",
    "sns.barplot(x='Sex', y=response_var , data=df1, ax=axes[0])\n",
    "sns.barplot(x='Pclass', y=response_var , data=df1, ax=axes[1])\n",
    "sns.barplot(x='Embarked', y=response_var , data=df1, ax=axes[2])\n",
    "plt.show()"
   ]
  },
  {
   "cell_type": "markdown",
   "metadata": {},
   "source": [
    "All chi-square tests for independence were significant, showing a relationship to Survived.  After examining the crosstabs, chi square p-values, and the bar charts, all of these categorical variables were deemed important to the prediction model. "
   ]
  },
  {
   "cell_type": "markdown",
   "metadata": {},
   "source": [
    "### Feature Selection: Important Numeric Variables"
   ]
  },
  {
   "cell_type": "markdown",
   "metadata": {},
   "source": [
    "Next, the numeric variables (Age, SibSpm, Parch, and Fare) were examined for a relationship to survival. The categorical variable Pclass was encoded as numeric in order to examine it in a correlation matrix.  "
   ]
  },
  {
   "cell_type": "code",
   "execution_count": 28,
   "metadata": {},
   "outputs": [],
   "source": [
    "#change type on Pclass to see correlations\n",
    "df1.loc[:,\"Pclass\"] = df1[\"Pclass\"].astype(int)"
   ]
  },
  {
   "cell_type": "code",
   "execution_count": 29,
   "metadata": {},
   "outputs": [
    {
     "name": "stdout",
     "output_type": "stream",
     "text": [
      "Numeric Variables Description:\n",
      "          count       mean        std   min      25%      50%   75%       max\n",
      "Survived  891.0   0.383838   0.486592  0.00   0.0000   0.0000   1.0    1.0000\n",
      "Pclass    891.0   2.308642   0.836071  1.00   2.0000   3.0000   3.0    3.0000\n",
      "Age       891.0  29.112424  13.304424  0.42  21.5000  26.0000  36.0   80.0000\n",
      "SibSp     891.0   0.523008   1.102743  0.00   0.0000   0.0000   1.0    8.0000\n",
      "Parch     891.0   0.381594   0.806057  0.00   0.0000   0.0000   0.0    6.0000\n",
      "Fare      891.0  32.204208  49.693429  0.00   7.9104  14.4542  31.0  512.3292\n",
      "\n",
      "Numeric Variables Correlation Matrix:\n",
      "          Survived    Pclass       Age     SibSp     Parch      Fare\n",
      "Survived  1.000000 -0.338481 -0.059579 -0.035322  0.081629  0.257307\n",
      "Pclass   -0.338481  1.000000 -0.413583  0.083081  0.018443 -0.549500\n",
      "Age      -0.059579 -0.413583  1.000000 -0.249854 -0.175526  0.122692\n",
      "SibSp    -0.035322  0.083081 -0.249854  1.000000  0.414838  0.159651\n",
      "Parch     0.081629  0.018443 -0.175526  0.414838  1.000000  0.216225\n",
      "Fare      0.257307 -0.549500  0.122692  0.159651  0.216225  1.000000\n",
      "\n",
      "Correlation Heat Map:\n",
      "\n"
     ]
    },
    {
     "data": {
      "image/png": "[encoded data removed]",
      "text/plain": [
       "<Figure size 864x720 with 2 Axes>"
      ]
     },
     "metadata": {
      "needs_background": "light"
     },
     "output_type": "display_data"
    }
   ],
   "source": [
    "#analyze numeric variables\n",
    "analyze_num_variables(df1)"
   ]
  },
  {
   "cell_type": "markdown",
   "metadata": {},
   "source": [
    "After review of correlations and descriptive statistics, all of these variables remained in the model. There was a moderate correlation to Survived for: Fare, Pclass and Sex. There was a possibility of collinearity between Fare and Pclass. Since this was a prediction model and not an effect-size model, both variables remained in the model. Also, Age and Pclass showed a strong relationship.  While Age did not show a strong correlation to survival, it remained in this initial model due to reasoning that age may affect survival. "
   ]
  },
  {
   "cell_type": "markdown",
   "metadata": {},
   "source": [
    "## Feature Encoding"
   ]
  },
  {
   "cell_type": "markdown",
   "metadata": {},
   "source": [
    "Categorical variables were binary-encoded with drop_first set to true, so that reference levels would be set to the first level.  "
   ]
  },
  {
   "cell_type": "code",
   "execution_count": 30,
   "metadata": {},
   "outputs": [],
   "source": [
    "#change type on Pclass for binary encoding\n",
    "df1.loc[:,\"Pclass\"] = df1[\"Pclass\"].astype(str)"
   ]
  },
  {
   "cell_type": "code",
   "execution_count": 31,
   "metadata": {},
   "outputs": [
    {
     "name": "stdout",
     "output_type": "stream",
     "text": [
      "Dataframe after encoding (drop-first: True):\n",
      "   Survived   Age  SibSp  Parch     Fare  Sex_male  Embarked_Q  Embarked_S  \\\n",
      "0         0  22.0      1      0   7.2500         1           0           1   \n",
      "1         1  38.0      1      0  71.2833         0           0           0   \n",
      "2         1  26.0      0      0   7.9250         0           0           1   \n",
      "3         1  35.0      1      0  53.1000         0           0           1   \n",
      "4         0  35.0      0      0   8.0500         1           0           1   \n",
      "\n",
      "   Pclass_2  Pclass_3  \n",
      "0         0         1  \n",
      "1         0         0  \n",
      "2         0         1  \n",
      "3         0         0  \n",
      "4         0         1  \n"
     ]
    }
   ],
   "source": [
    "#peform binary encoding - check fields after encoding, use drop_first = True\n",
    "category_col_list = ['Sex', 'Embarked', 'Pclass']\n",
    "df1 = create_bin_encoded_vars(df1, category_col_list, True)"
   ]
  },
  {
   "cell_type": "markdown",
   "metadata": {},
   "source": [
    "### Shuffle Data and Save the Encoded File"
   ]
  },
  {
   "cell_type": "code",
   "execution_count": 32,
   "metadata": {},
   "outputs": [],
   "source": [
    "#reindex and save encoded data file\n",
    "shuffle_and_save_file(df1, 'datasets/', 'titanic_encoded.csv')\n",
    "\n",
    "#Ready for modeling"
   ]
  },
  {
   "cell_type": "markdown",
   "metadata": {},
   "source": [
    "## Train and Fit Models "
   ]
  },
  {
   "cell_type": "markdown",
   "metadata": {},
   "source": [
    "Four different classifiers were instantiated.  The four models were trained using the encoded dataset.  Validation was performed using holdout validation at 25% (default). Model results included accuracy, precision, and recall. "
   ]
  },
  {
   "cell_type": "markdown",
   "metadata": {},
   "source": [
    "### Define Functions for Reuse"
   ]
  },
  {
   "cell_type": "code",
   "execution_count": 33,
   "metadata": {},
   "outputs": [],
   "source": [
    "from sklearn.metrics import accuracy_score, precision_score, recall_score, confusion_matrix\n",
    "from sklearn.metrics import plot_confusion_matrix\n",
    "from sklearn.model_selection import train_test_split\n",
    "from sklearn.linear_model import LogisticRegression\n",
    "from sklearn.ensemble import RandomForestClassifier\n",
    "from sklearn.discriminant_analysis import LinearDiscriminantAnalysis, QuadraticDiscriminantAnalysis"
   ]
  },
  {
   "cell_type": "code",
   "execution_count": 34,
   "metadata": {},
   "outputs": [],
   "source": [
    "#build dictionary for results\n",
    "def build_accuracy_dict(y_test, y_predict):\n",
    "    acc = accuracy_score(y_test, y_predict, normalize=True)\n",
    "    prec = precision_score(y_test, y_predict)\n",
    "    recall = recall_score(y_test, y_predict)\n",
    "    return{\"Accuracy\": acc, \n",
    "           \"Precision\": prec, \n",
    "           \"Recall\": recall}"
   ]
  },
  {
   "cell_type": "code",
   "execution_count": 35,
   "metadata": {},
   "outputs": [],
   "source": [
    "#final results\n",
    "def show_results_table(model_dict1):\n",
    "    table = pd.DataFrame(columns = ['Model', 'Accuracy' , 'Precision' , \"Recall\"])\n",
    "    #unpack to i and tuple\n",
    "    for i, (key, value) in enumerate(model_dict1.items()):\n",
    "        table.loc[i] = [key, \n",
    "                    round(value[\"accuracy_dict\"][\"Accuracy\"],4),\n",
    "                    round(value[\"accuracy_dict\"][\"Precision\"],4),\n",
    "                    round(value[\"accuracy_dict\"][\"Recall\"],4)]\n",
    "    print(table.sort_values(['Accuracy', 'Precision'], ascending=False).to_string(index=False))\n",
    "    return"
   ]
  },
  {
   "cell_type": "code",
   "execution_count": 36,
   "metadata": {},
   "outputs": [],
   "source": [
    "#split data set for holdout validation\n",
    "def split_data(name_of_response, names_of_predictors, dataset, stratified, test_fraction=0.25):  \n",
    "    #set predictors and response\n",
    "    x_predictors = dataset[names_of_predictors]\n",
    "    y_response = dataset[name_of_response]\n",
    "    #set stratified option\n",
    "    if(stratified):\n",
    "        target = y_response\n",
    "    else:\n",
    "        target = None   \n",
    "    #shuffle/split dataset for holdout and return 4 objs: x_train, x_test, y_train, y_test\n",
    "    return train_test_split(x_predictors, y_response, stratify=target, test_size=test_fraction)"
   ]
  },
  {
   "cell_type": "code",
   "execution_count": 37,
   "metadata": {},
   "outputs": [],
   "source": [
    "#Fit model and test against holdout: store results and show confusion matrix\n",
    "def fit_assess_model(name, classifier_model, x_train, x_test, y_train, y_test):\n",
    "    #fit the model to the training set\n",
    "    fitted_model = classifier_model.fit(x_train, y_train)\n",
    "    y_pred = fitted_model.predict(x_test)\n",
    "    #collect and store accuracy data\n",
    "    accuracy_dict = build_accuracy_dict(y_test, y_pred)\n",
    "    truth_vs_pred_df = pd.DataFrame({'Truth': y_test, \n",
    "                                     'Predicted': y_pred})\n",
    "    result_dict = {'accuracy_dict': accuracy_dict,\n",
    "                   'truth_vs_predicted': truth_vs_pred_df}\n",
    "    #show sklearn confusion_matrix\n",
    "    disp = plot_confusion_matrix(classifier_model, x_test, y_test,\n",
    "                                 cmap=plt.cm.Blues,\n",
    "                                display_labels =['Died','Survived'])\n",
    "    disp.ax_.set_title(name + ' Confusion Matrix', size=12)\n",
    "    print(f'Accuracy: {round(accuracy_dict[\"Accuracy\"]*100,4)}')\n",
    "    print(disp.confusion_matrix)\n",
    "    return result_dict\n",
    "\n",
    "#end reusable functions"
   ]
  },
  {
   "cell_type": "markdown",
   "metadata": {},
   "source": [
    "### Begin Model Building"
   ]
  },
  {
   "cell_type": "markdown",
   "metadata": {},
   "source": [
    "The data was loaded and reviewed."
   ]
  },
  {
   "cell_type": "code",
   "execution_count": 38,
   "metadata": {},
   "outputs": [
    {
     "name": "stdout",
     "output_type": "stream",
     "text": [
      "Dataset shape: (891, 10)\n",
      "\n",
      "Missing Cells:\n",
      "            Count  Percentage\n",
      "Survived        0         0.0\n",
      "Age             0         0.0\n",
      "SibSp           0         0.0\n",
      "Parch           0         0.0\n",
      "Fare            0         0.0\n",
      "Sex_male        0         0.0\n",
      "Embarked_Q      0         0.0\n",
      "Embarked_S      0         0.0\n",
      "Pclass_2        0         0.0\n",
      "Pclass_3        0         0.0\n",
      "\n",
      "Dataset Columns:\n",
      "   Survived   Age  SibSp  Parch     Fare  Sex_male  Embarked_Q  Embarked_S  \\\n",
      "0         1  32.0      0      0  76.2917         0           0           0   \n",
      "1         0  61.0      0      0  32.3208         1           0           1   \n",
      "2         1  26.0      0      0   7.8542         0           0           1   \n",
      "\n",
      "   Pclass_2  Pclass_3  \n",
      "0         0         0  \n",
      "1         0         0  \n",
      "2         0         1  \n",
      "\n"
     ]
    }
   ],
   "source": [
    "#read and check cleaned file\n",
    "clean_df = pd.read_csv('datasets/titanic_encoded.csv')\n",
    "check_dataframe(clean_df)"
   ]
  },
  {
   "cell_type": "markdown",
   "metadata": {},
   "source": [
    "The target variable name was set along with predictor names."
   ]
  },
  {
   "cell_type": "code",
   "execution_count": 39,
   "metadata": {
    "scrolled": true
   },
   "outputs": [
    {
     "name": "stdout",
     "output_type": "stream",
     "text": [
      "Survived\n"
     ]
    }
   ],
   "source": [
    "#Get the response variable name as string. Response column is first column\n",
    "response_var = clean_df.columns[0]\n",
    "print(response_var)"
   ]
  },
  {
   "cell_type": "code",
   "execution_count": 40,
   "metadata": {},
   "outputs": [
    {
     "name": "stdout",
     "output_type": "stream",
     "text": [
      "['Age', 'SibSp', 'Parch', 'Fare', 'Sex_male', 'Embarked_Q', 'Embarked_S', 'Pclass_2', 'Pclass_3']\n"
     ]
    }
   ],
   "source": [
    "#Create list of feature names - response var must be in first column\n",
    "features = list(clean_df.columns[1:])\n",
    "print(features)"
   ]
  },
  {
   "cell_type": "markdown",
   "metadata": {},
   "source": [
    "### Split Dataset for Training and Testing"
   ]
  },
  {
   "cell_type": "code",
   "execution_count": 41,
   "metadata": {},
   "outputs": [],
   "source": [
    "#Shuffle and split the dataset with holdout of 25% using a stratified sampling\n",
    "x_train, x_test, y_train, y_test = split_data(response_var, features, clean_df, stratified=True)"
   ]
  },
  {
   "cell_type": "markdown",
   "metadata": {},
   "source": [
    "### Create Models"
   ]
  },
  {
   "cell_type": "markdown",
   "metadata": {},
   "source": [
    "Four classifiers were created, using standard defaults. Accuracy, precision, and recall were used to compare performance. The following classification models were used.\n",
    " - Logistic Regression uses a maximum likelihood function for data involving a transformation to log odds in order to produce a linear function of beta values for predictor variables. \n",
    " - Linear Discriminant Analysis maximizes separability of the response variable category means and minimizes scatter (variance) within the response variable categories by using linear transformation (new axes).\n",
    " - Quadratic Discriminant Analysis is similar to LDA but decision boundary axes may be quadratic (not linear).\n",
    " - Random Forest Classifiers use decision trees to split data into response variable categories. Parameter settings can help to reduce memory usage and avoid overfitting. "
   ]
  },
  {
   "cell_type": "code",
   "execution_count": 42,
   "metadata": {},
   "outputs": [],
   "source": [
    "#instantiate four classification models with standard parameters\n",
    "log_reg = LogisticRegression(C=1.0, penalty='l2',max_iter=100,solver='liblinear')  \n",
    "LDA = LinearDiscriminantAnalysis(solver='svd')\n",
    "QDA = QuadraticDiscriminantAnalysis()\n",
    "rand_forest = RandomForestClassifier(n_estimators=100, max_depth=5, random_state=42)"
   ]
  },
  {
   "cell_type": "markdown",
   "metadata": {},
   "source": [
    "### Train and Fit Four Classification Models"
   ]
  },
  {
   "cell_type": "code",
   "execution_count": 43,
   "metadata": {},
   "outputs": [
    {
     "name": "stdout",
     "output_type": "stream",
     "text": [
      "Accuracy: 82.5112\n",
      "[[124  13]\n",
      " [ 26  60]]\n"
     ]
    },
    {
     "data": {
      "image/png": "[encoded data removed]",
      "text/plain": [
       "<Figure size 432x288 with 2 Axes>"
      ]
     },
     "metadata": {
      "needs_background": "light"
     },
     "output_type": "display_data"
    }
   ],
   "source": [
    "results_dict1 = fit_assess_model('Logistic Regression', log_reg, x_train, x_test, y_train, y_test)"
   ]
  },
  {
   "cell_type": "code",
   "execution_count": 44,
   "metadata": {},
   "outputs": [
    {
     "name": "stdout",
     "output_type": "stream",
     "text": [
      "Accuracy: 79.8206\n",
      "[[118  19]\n",
      " [ 26  60]]\n"
     ]
    },
    {
     "data": {
      "image/png": "[encoded data removed]",
      "text/plain": [
       "<Figure size 432x288 with 2 Axes>"
      ]
     },
     "metadata": {
      "needs_background": "light"
     },
     "output_type": "display_data"
    }
   ],
   "source": [
    "results_dict2 = fit_assess_model('LDA', LDA, x_train, x_test, y_train, y_test)"
   ]
  },
  {
   "cell_type": "code",
   "execution_count": 45,
   "metadata": {},
   "outputs": [
    {
     "name": "stdout",
     "output_type": "stream",
     "text": [
      "Accuracy: 80.2691\n",
      "[[114  23]\n",
      " [ 21  65]]\n"
     ]
    },
    {
     "data": {
      "image/png": "[encoded data removed]",
      "text/plain": [
       "<Figure size 432x288 with 2 Axes>"
      ]
     },
     "metadata": {
      "needs_background": "light"
     },
     "output_type": "display_data"
    }
   ],
   "source": [
    "results_dict3 = fit_assess_model('QDA', QDA, x_train, x_test, y_train, y_test)"
   ]
  },
  {
   "cell_type": "code",
   "execution_count": 46,
   "metadata": {},
   "outputs": [
    {
     "name": "stdout",
     "output_type": "stream",
     "text": [
      "Accuracy: 85.6502\n",
      "[[132   5]\n",
      " [ 27  59]]\n"
     ]
    },
    {
     "data": {
      "image/png": "[encoded data removed]",
      "text/plain": [
       "<Figure size 432x288 with 2 Axes>"
      ]
     },
     "metadata": {
      "needs_background": "light"
     },
     "output_type": "display_data"
    }
   ],
   "source": [
    "results_dict4 = fit_assess_model('Random Forest', rand_forest, x_train, x_test, y_train, y_test)"
   ]
  },
  {
   "cell_type": "code",
   "execution_count": 47,
   "metadata": {},
   "outputs": [],
   "source": [
    "#end training and validation"
   ]
  },
  {
   "cell_type": "markdown",
   "metadata": {},
   "source": [
    "## Review Model Results"
   ]
  },
  {
   "cell_type": "markdown",
   "metadata": {},
   "source": [
    "The model results included accuracy, precision, and recall for each model.\n",
    " - Accuracy: (True Pos + True Neg)/(All)\n",
    " - Precision: (True Pos)/(True Pos + False Pos)\n",
    " - Recall: (True Pos)/(True Pos + False Neg)\n",
    " \n",
    " For this application, positive is represented as Survived:\n",
    " - Accuracy: (True Survived + True Died)/(All)\n",
    " - Precision: (True Survived)/(True Survived + False Survived)\n",
    " - Recall: (True Survived)/(True Survived + False Died)"
   ]
  },
  {
   "cell_type": "code",
   "execution_count": 48,
   "metadata": {},
   "outputs": [],
   "source": [
    "#store results\n",
    "model_dict = {}\n",
    "model_dict[\"Logistic Regression\"] = results_dict1 \n",
    "model_dict[\"Linear Discriminant Analysis\"] = results_dict2 \n",
    "model_dict[\"Quadratic Discriminant Analysis\"] = results_dict3\n",
    "model_dict[\"Random Forest\"] = results_dict4"
   ]
  },
  {
   "cell_type": "code",
   "execution_count": 49,
   "metadata": {},
   "outputs": [
    {
     "name": "stdout",
     "output_type": "stream",
     "text": [
      "                           Model  Accuracy  Precision  Recall\n",
      "                   Random Forest    0.8565     0.9219  0.6860\n",
      "             Logistic Regression    0.8251     0.8219  0.6977\n",
      " Quadratic Discriminant Analysis    0.8027     0.7386  0.7558\n",
      "    Linear Discriminant Analysis    0.7982     0.7595  0.6977\n"
     ]
    }
   ],
   "source": [
    "#show results\n",
    "show_results_table(model_dict)"
   ]
  },
  {
   "cell_type": "markdown",
   "metadata": {},
   "source": [
    "All of these classifiers had good accuracy scores.  The precision scores were also good possibly due to data that included 62% negatives, potentially reducing the misclassification of negatives. Recall scores tended to be lower when compared to accuracy. Recall includes consideration of misclassifying survivers. These results may be related to the lower percentage of survivors in the data (38%). \n",
    "\n",
    "To better approximate model performance measures, a pipeline could be implemented to include all feature analysis and transformation steps. The partitioning of these step into a pipeline would allow for separate analysis of features for the training set, reducing the leakage of test observations into the feature selection process. Also, cross validation techniques could be applied with pipelining to hone performance measures further. \n",
    "\n",
    "This project shows the benefits of all four of these popular classification methods. In a future project, pipelining and K-fold cross validation could be used to hone the performance measures to aid model comparison."
   ]
  },
  {
   "cell_type": "code",
   "execution_count": null,
   "metadata": {},
   "outputs": [],
   "source": [
    "#end\n",
    "#by Brenda Griffith 5/2021"
   ]
  }
 ],
 "metadata": {
  "kernelspec": {
   "display_name": "Python 3",
   "language": "python",
   "name": "python3"
  },
  "language_info": {
   "codemirror_mode": {
    "name": "ipython",
    "version": 3
   },
   "file_extension": ".py",
   "mimetype": "text/x-python",
   "name": "python",
   "nbconvert_exporter": "python",
   "pygments_lexer": "ipython3",
   "version": "3.8.5"
  }
 },
 "nbformat": 4,
 "nbformat_minor": 4
}
